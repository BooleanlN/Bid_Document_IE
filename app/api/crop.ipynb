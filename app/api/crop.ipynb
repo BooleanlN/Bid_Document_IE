{
 "cells": [
  {
   "cell_type": "code",
   "execution_count": 138,
   "metadata": {},
   "outputs": [],
   "source": [
    "import docx\n",
    "import PyPDF2\n",
    "import pdfplumber\n",
    "from pdfminer.pdfparser import PDFParser\n",
    "from pdfminer.pdfdocument import PDFDocument\n",
    "\n",
    "import os\n",
    "import re"
   ]
  },
  {
   "cell_type": "code",
   "execution_count": 139,
   "metadata": {},
   "outputs": [],
   "source": [
    "def get_files(source_path):\n",
    "    for _,_,filenames in os.walk(source_path):\n",
    "        for filename in filenames:\n",
    "            print(filename)\n",
    "            if filename.split(\".\")[-1] == 'pdf':\n",
    "#                 continue\n",
    "                handle_pdf(source_path+filename,filename)\n",
    "            elif filename.split(\".\")[-1] == 'docx':\n",
    "                handle_docx(source_path+filename,filename)"
   ]
  },
  {
   "cell_type": "code",
   "execution_count": 168,
   "metadata": {},
   "outputs": [],
   "source": [
    "def handle_pdf(file_path,filename):\n",
    "    \"\"\"处理原始招标文件(pdf格式)\"\"\"\n",
    "    pdf_obj = PyPDF2.PdfFileReader(file_path)\n",
    "    doc_info = pdf_obj.documentInfo\n",
    "    print(doc_info)\n",
    "\n",
    "#     new_meta = {\n",
    "#         \"Author\":doc_info.dc_creator,\n",
    "#         \"CreateDate\":doc_info.xmp_createDate,\n",
    "#         \"ModifyDate\":doc_info.xmp_modifyDate\n",
    "        \n",
    "#     }\n",
    "    outlines = pdf_obj.getOutlines()\n",
    "    pattern = '.*(技术|参数|要求).*'\n",
    "    pdf_out = PyPDF2.PdfFileWriter()\n",
    "    pdf_out.addMetadata(doc_info)\n",
    "    sections = []\n",
    "    for outline in  outlines:\n",
    "        if isinstance(outline,list):\n",
    "            continue\n",
    "#         print(outline)\n",
    "#             print(page.extractText())\n",
    "        if re.match(\"(第.*章|第.*部分)\",outline.title):\n",
    "            #print(outline.title)\n",
    "            sections.append(outline)\n",
    "    for index,section in enumerate(sections):\n",
    "        if re.match(\".*(招标公告|招标邀请书).*\",section.title):\n",
    "            pageNumberStart = pdf_obj.getDestinationPageNumber(section)\n",
    "            if isinstance(outlines[index+1],list):\n",
    "                pageNumberEnd = pdf_obj.getDestinationPageNumber(sections[index+1][0])\n",
    "            else:\n",
    "                pageNumberEnd = pdf_obj.getDestinationPageNumber(sections[index+1])\n",
    "            #print(pageNumberStart,pageNumberEnd)\n",
    "            bid_date = get_metadata(file_path,filename,pageNumberStart,pageNumberEnd)\n",
    "            cc = {}\n",
    "            cc[\"BidDate\"] = bid_date\n",
    "            pdf_out.addMetadata(cc)\n",
    "        if re.match(pattern,section.title):\n",
    "            #print(section.title)\n",
    "            pageNumberStart = pdf_obj.getDestinationPageNumber(section)\n",
    "            if isinstance(outlines[index+1],list):\n",
    "                pageNumberEnd = pdf_obj.getDestinationPageNumber(sections[index+1][0])\n",
    "            else:\n",
    "                pageNumberEnd = pdf_obj.getDestinationPageNumber(sections[index+1])\n",
    "            #print(pageNumberStart,pageNumberEnd)\n",
    "            for page in range(pageNumberStart,pageNumberEnd):\n",
    "                pdf_out.addPage(pdf_obj.getPage(page))\n",
    "    with open(\"../source/extract/\"+filename,\"wb\") as out_file:\n",
    "        try:\n",
    "            pdf_out.write(out_file)\n",
    "        except UnicodeEncodeError:\n",
    "            print(\"编码错误\")\n",
    "            pass"
   ]
  },
  {
   "cell_type": "code",
   "execution_count": 169,
   "metadata": {},
   "outputs": [
    {
     "name": "stdout",
     "output_type": "stream",
     "text": [
      "52434f04-b69a-424a-b1c4-7e9eab615a02.pdf\n",
      "{'/Title': '无标题文档', '/Author': 'NTKO', '/Creator': 'Microsoft® Word 2013', '/CreationDate': \"D:20190417182942+08'00'\", '/ModDate': \"D:20190417182942+08'00'\", '/Producer': 'Microsoft® Word 2013'}\n",
      "987141ed-0940-45af-a1e5-a12f40b2a19e.pdf\n",
      "{'/Title': '无标题文档', '/Author': 'NTKO', '/Creator': 'Microsoft® Word 2013', '/CreationDate': \"D:20190423173053+08'00'\", '/ModDate': \"D:20190423173053+08'00'\", '/Producer': 'Microsoft® Word 2013'}\n",
      "7a58194e-13db-48d9-a741-74a17b9a56d3.pdf\n",
      "{'/Title': '无标题文档', '/Author': 'NTKO', '/Creator': 'Microsoft® Word 2013', '/CreationDate': \"D:20190722180514+08'00'\", '/ModDate': \"D:20190722180514+08'00'\", '/Producer': 'Microsoft® Word 2013'}\n",
      "CSIEZB170202506-采煤机-招标文件-第一册.doc\n",
      "CSIE08944招标文件重新招标版-宁煤采煤机20171215.doc\n",
      "7d5510a1-a1eb-42ac-9721-baa44c723bd0.pdf\n",
      "{'/Title': '无标题文档', '/Author': 'NTKO', '/Creator': 'Microsoft® Word 2013', '/CreationDate': \"D:20190522110918+08'00'\", '/ModDate': \"D:20190522110918+08'00'\", '/Producer': 'Microsoft® Word 2013'}\n",
      "05dd9e61-b7ce-4509-8cb6-71615f0db2bf.pdf\n",
      "{'/Title': '无标题文档', '/Author': 'NTKO', '/Creator': 'Microsoft® Word 2013', '/CreationDate': \"D:20171030074016+08'00'\", '/ModDate': \"D:20171030074016+08'00'\", '/Producer': 'Microsoft® Word 2013'}\n",
      "2fcfa91d-b082-4864-92f1-48e5aa4c4dd9.pdf\n",
      "{'/Title': '无标题文档', '/Author': 'NTKO', '/Creator': 'Microsoft® Word 2013', '/CreationDate': \"D:20190522112531+08'00'\", '/ModDate': \"D:20190522112531+08'00'\", '/Producer': 'Microsoft® Word 2013'}\n",
      "650a0471-e58b-46a9-a975-3d2ace4b9422.pdf\n",
      "{'/Title': '无标题文档', '/Author': 'NTKO', '/Creator': 'Microsoft® Word 2013', '/CreationDate': \"D:20190718003038+08'00'\", '/ModDate': \"D:20190718003038+08'00'\", '/Producer': 'Microsoft® Word 2013'}\n",
      "5336d28e-0c44-4fb0-9a08-2a185b31639a.pdf\n",
      "{'/Title': '无标题文档', '/Author': 'NTKO', '/Creator': 'Microsoft® Word 2013', '/CreationDate': \"D:20180419152311+08'00'\", '/ModDate': \"D:20180419152311+08'00'\", '/Producer': 'Microsoft® Word 2013'}\n",
      "63794ba0-37a2-4e79-a1a5-18210e95b612.pdf\n",
      "{'/Title': '无标题文档', '/Author': 'NTKO', '/Creator': 'Microsoft® Word 2013', '/CreationDate': \"D:20190802164043+08'00'\", '/ModDate': \"D:20190802164043+08'00'\", '/Producer': 'Microsoft® Word 2013'}\n",
      "89363cf8-a3e2-49b0-95c5-18fcaba047ad.pdf\n",
      "{'/Title': '无标题文档', '/Author': 'NTKO', '/Creator': 'Microsoft® Word 2013', '/CreationDate': \"D:20180522161612+08'00'\", '/ModDate': \"D:20180522161612+08'00'\", '/Producer': 'Microsoft® Word 2013'}\n",
      "00611434-ed85-42c0-a4af-59494754cbf7.pdf\n",
      "{'/Title': '无标题文档', '/Author': 'NTKO', '/Creator': 'Microsoft® Word 2013', '/CreationDate': \"D:20181113124214+08'00'\", '/ModDate': \"D:20181113124214+08'00'\", '/Producer': 'Microsoft® Word 2013'}\n",
      "b0b63dd3-7814-4d70-a218-47be7afd1bcf.docx\n",
      "国际招标第一册范本-中文版.pdf\n",
      "{'/Title': '机电产品采购\\ue003', '/Author': 'yk', '/Creator': 'Microsoft® Word 2010', '/CreationDate': \"D:20140416184045+08'00'\", '/ModDate': \"D:20140416184045+08'00'\", '/Producer': 'Microsoft® Word 2010'}\n",
      "a9a8b519-fb52-450c-bdda-444ad648618b.pdf\n",
      "{'/Title': '无标题文档', '/Author': 'NTKO', '/Creator': 'Microsoft® Word 2013', '/CreationDate': \"D:20190904162042+08'00'\", '/ModDate': \"D:20190904162042+08'00'\", '/Producer': 'Microsoft® Word 2013'}\n",
      "ae0edeff-1f0a-4191-99f1-f53ccdbc675e.pdf\n",
      "{'/Title': '无标题文档', '/Author': 'NTKO', '/Creator': 'Microsoft® Word 2013', '/CreationDate': \"D:20190722163603+08'00'\", '/ModDate': \"D:20190722163603+08'00'\", '/Producer': 'Microsoft® Word 2013'}\n",
      "22515c19-81aa-4f21-b82f-3c1e2c82c009.doc\n"
     ]
    }
   ],
   "source": [
    "get_files(\"../source/origin/\")"
   ]
  },
  {
   "cell_type": "code",
   "execution_count": null,
   "metadata": {},
   "outputs": [],
   "source": [
    "def handle_docx(file_path,filename):\n",
    "    doc_obj = docx.Document(file_path)\n",
    "    paragraphs = doc_obj.paragraphs\n",
    "#     for table in doc_obj.tables:\n",
    "#         print(table)\n",
    "    sections = []\n",
    "    pattern = '.*(技术|参数|要求).*'\n",
    "    doc_out = docx.Document()\n",
    "    for index,paragraph in enumerate(paragraphs):\n",
    "        #print(paragraph.style.name)\n",
    "        if \"Heading\" in paragraph.style.name:\n",
    "            sections.append((index,paragraph))\n",
    "    for order,(index,section) in enumerate(sections):\n",
    "        if re.match(pattern,section.text):\n",
    "#             print(paragraphs[index].text)\n",
    "            #doc_out.add_paragraph(paragraphs)\n",
    "            for para in paragraphs[index:sections[order+1][0]]:\n",
    "                doc_out.add_paragraph(para.text,para.style)\n",
    "    doc_out.save(\"../source/extract/\"+filename)\n",
    "        \n",
    "#     author,created,modified,title = doc_obj.core_properties\n",
    "#     print(author,created,modified,title)\n"
   ]
  },
  {
   "cell_type": "code",
   "execution_count": 93,
   "metadata": {},
   "outputs": [
    {
     "name": "stdout",
     "output_type": "stream",
     "text": [
      "52434f04-b69a-424a-b1c4-7e9eab615a02.pdf\n",
      "987141ed-0940-45af-a1e5-a12f40b2a19e.pdf\n",
      "7a58194e-13db-48d9-a741-74a17b9a56d3.pdf\n",
      "CSIEZB170202506-采煤机-招标文件-第一册.doc\n",
      "CSIE08944招标文件重新招标版-宁煤采煤机20171215.doc\n",
      "7d5510a1-a1eb-42ac-9721-baa44c723bd0.pdf\n",
      "05dd9e61-b7ce-4509-8cb6-71615f0db2bf.pdf\n",
      "2fcfa91d-b082-4864-92f1-48e5aa4c4dd9.pdf\n",
      "650a0471-e58b-46a9-a975-3d2ace4b9422.pdf\n",
      "5336d28e-0c44-4fb0-9a08-2a185b31639a.pdf\n",
      "63794ba0-37a2-4e79-a1a5-18210e95b612.pdf\n",
      "89363cf8-a3e2-49b0-95c5-18fcaba047ad.pdf\n",
      "00611434-ed85-42c0-a4af-59494754cbf7.pdf\n",
      "b0b63dd3-7814-4d70-a218-47be7afd1bcf.docx\n",
      "国际招标第一册范本-中文版.pdf\n",
      "a9a8b519-fb52-450c-bdda-444ad648618b.pdf\n",
      "ae0edeff-1f0a-4191-99f1-f53ccdbc675e.pdf\n",
      "22515c19-81aa-4f21-b82f-3c1e2c82c009.doc\n"
     ]
    }
   ],
   "source": [
    "get_files(\"../source/origin/\")"
   ]
  },
  {
   "cell_type": "code",
   "execution_count": null,
   "outputs": [],
   "source": [
    "origin = pdfplumber.open(\"../source/extract/2fcfa91d-b082-4864-92f1-48e5aa4c4dd9.pdf\")\n",
    "origin.metadata"
   ],
   "metadata": {
    "collapsed": false,
    "pycharm": {
     "name": "#%%\n"
    }
   }
  },
  {
   "cell_type": "code",
   "execution_count": null,
   "outputs": [],
   "source": [
    "def get_metadata(file_path,filename,pageNumberStart,pageNumberEnd):\n",
    "    origin = pdfplumber.open(file_path)\n",
    "    pages = origin.pages[pageNumberStart:pageNumberEnd]\n",
    "    pattern = \".*(开标时间|投标截止时间).*\"\n",
    "    res = []\n",
    "    for page in pages:\n",
    "        texts = page.extract_text().split('\\n')\n",
    "        for index,text in enumerate(texts):\n",
    "#             print(text)\n",
    "            if re.match(pattern,text):\n",
    "                res.append(text)\n",
    "                res.append(texts[index+1])\n",
    "    return \"\".join(res)"
   ],
   "metadata": {
    "collapsed": false,
    "pycharm": {
     "name": "#%%\n"
    }
   }
  },
  {
   "cell_type": "code",
   "execution_count": 170,
   "metadata": {},
   "outputs": [
    {
     "data": {
      "text/plain": [
       "{'Producer': 'Microsoft® Word 2013',\n",
       " 'Title': '无标题文档',\n",
       " 'Author': 'NTKO',\n",
       " 'Creator': 'Microsoft® Word 2013',\n",
       " 'CreationDate': \"D:20190522112531+08'00'\",\n",
       " 'ModDate': \"D:20190522112531+08'00'\",\n",
       " /b'BidDate': '        6.1 投标文件递交的截止时间及开标时间（投标截止时间，下同）为 2019-06-12 09:30（北京时间）。 '}"
      ]
     },
     "execution_count": 170,
     "metadata": {},
     "output_type": "execute_result"
    }
   ],
   "source": []
  },
  {
   "cell_type": "code",
   "execution_count": 137,
   "metadata": {},
   "outputs": [],
   "source": [
    "def get_metadata(file_path,filename,pageNumberStart,pageNumberEnd):\n",
    "    origin = pdfplumber.open(file_path)\n",
    "    pages = origin.pages[pageNumberStart:pageNumberEnd]\n",
    "    pattern = \".*(开标时间|投标截止时间).*\"\n",
    "    res = []\n",
    "    for page in pages:\n",
    "        texts = page.extract_text().split('\\n')\n",
    "        for index,text in enumerate(texts):\n",
    "#             print(text)\n",
    "            if re.match(pattern,text):\n",
    "                res.append(text)\n",
    "                res.append(texts[index+1])\n",
    "    return \"\".join(res)"
   ]
  },
  {
   "cell_type": "code",
   "execution_count": null,
   "metadata": {},
   "outputs": [],
   "source": []
  }
 ],
 "metadata": {
  "kernelspec": {
   "display_name": "Python 3",
   "language": "python",
   "name": "python3"
  },
  "language_info": {
   "codemirror_mode": {
    "name": "ipython",
    "version": 3
   },
   "file_extension": ".py",
   "mimetype": "text/x-python",
   "name": "python",
   "nbconvert_exporter": "python",
   "pygments_lexer": "ipython3",
   "version": "3.7.6"
  },
  "pycharm": {
   "stem_cell": {
    "cell_type": "raw",
    "source": [],
    "metadata": {
     "collapsed": false
    }
   }
  }
 },
 "nbformat": 4,
 "nbformat_minor": 1
}